{
 "cells": [
  {
   "cell_type": "code",
   "execution_count": 42,
   "id": "b0575a79-a834-4f09-8966-358187378287",
   "metadata": {},
   "outputs": [],
   "source": [
    "import pandas as pd"
   ]
  },
  {
   "cell_type": "code",
   "execution_count": 43,
   "id": "ecd71da7-25e5-4866-bbb0-55b3905f0e95",
   "metadata": {},
   "outputs": [],
   "source": [
    "#Load election file\n",
    "\n",
    "file_path='Resources/election_data.csv'\n",
    "data=pd.read_csv(file_path)"
   ]
  },
  {
   "cell_type": "code",
   "execution_count": 44,
   "id": "78765445-01a6-4bf3-80d5-94a59d9a696f",
   "metadata": {},
   "outputs": [],
   "source": [
    "#calculate total number of votes\n",
    "\n",
    "total_votes = data['Ballot ID'].count()"
   ]
  },
  {
   "cell_type": "code",
   "execution_count": 45,
   "id": "211faf39-8348-4df1-9bcb-460b4cfdbd1b",
   "metadata": {},
   "outputs": [],
   "source": [
    "#candidates that received votes\n",
    "\n",
    "candidates=data['Candidate'].value_counts()\n",
    "\n",
    "#calculate total number of votes each candidate won\n",
    "candidate_votes = candidates.to_dict()\n",
    "\n",
    "#calculate the percentage of votes each candidate won\n",
    "percentage_votes={candidate: (votes / total_votes) * 100 for candidate, votes in candidate_votes.items()}"
   ]
  },
  {
   "cell_type": "code",
   "execution_count": 46,
   "id": "8ddc2473-d980-4132-ae82-1426b93c7dc7",
   "metadata": {},
   "outputs": [],
   "source": [
    "#determine the winner of the election\n",
    "\n",
    "winner =max(candidate_votes, key=candidate_votes.get)"
   ]
  },
  {
   "cell_type": "code",
   "execution_count": 47,
   "id": "7a9b237b-c68f-4ff5-87dc-4a903b923632",
   "metadata": {},
   "outputs": [
    {
     "name": "stdout",
     "output_type": "stream",
     "text": [
      "Election Results\n",
      "\n",
      "-------------------------\n",
      "\n",
      "Total Votes: 369711\n",
      "\n",
      "-------------------------\n",
      " \n",
      "Diana DeGette: 73.812% (272892)\n",
      " \n",
      "Charles Casper Stockham: 23.049% (85213)\n",
      " \n",
      "Raymon Anthony Doane: 3.139% (11606)\n",
      "\n",
      "-------------------------\n",
      "\n",
      "Winner: Diana DeGette\n",
      "\n",
      "-------------------------\n"
     ]
    }
   ],
   "source": [
    "# Print the results to the terminal\n",
    "print(\"Election Results\")\n",
    "print (\"\")\n",
    "print(\"-------------------------\")\n",
    "print (\"\")\n",
    "print(f\"Total Votes: {total_votes}\")\n",
    "print (\"\")\n",
    "print(\"-------------------------\")\n",
    "for candidate in candidates.index:\n",
    "    print(f\" \")\n",
    "    print(f\"{candidate}: {percentage_votes[candidate]:.3f}% ({candidate_votes[candidate]})\")\n",
    "\n",
    "print (\"\")\n",
    "print(\"-------------------------\")\n",
    "\n",
    "print (\"\")\n",
    "print(f\"Winner: {winner}\")\n",
    "\n",
    "print (\"\")\n",
    "print(\"-------------------------\")"
   ]
  },
  {
   "cell_type": "code",
   "execution_count": 48,
   "id": "c3c05424-f73d-4b1b-a346-795da38b56ec",
   "metadata": {},
   "outputs": [],
   "source": [
    "# Export the results to a text file\n",
    "\n",
    "with open('election_results.txt', 'w') as f:\n",
    "    f.write(\"Election Results\\n\")\n",
    "    f.write(\"-------------------------\\n\")\n",
    "    f.write(f\"Total Votes: {total_votes}\\n\")\n",
    "    f.write(\"-------------------------\\n\")\n",
    "    for candidate in candidates.index:\n",
    "        f.write(f\"{candidate}: {percentage_votes[candidate]:.3f}% ({candidate_votes[candidate]})\\n\")\n",
    "    f.write(\"-------------------------\\n\")\n",
    "    f.write(f\"Winner: {winner}\\n\")\n",
    "    f.write(\"-------------------------\\n\")"
   ]
  },
  {
   "cell_type": "code",
   "execution_count": null,
   "id": "8c2d8bc3-6ad3-4877-b662-c7e585d1214b",
   "metadata": {},
   "outputs": [],
   "source": []
  }
 ],
 "metadata": {
  "kernelspec": {
   "display_name": "Python 3 (ipykernel)",
   "language": "python",
   "name": "python3"
  },
  "language_info": {
   "codemirror_mode": {
    "name": "ipython",
    "version": 3
   },
   "file_extension": ".py",
   "mimetype": "text/x-python",
   "name": "python",
   "nbconvert_exporter": "python",
   "pygments_lexer": "ipython3",
   "version": "3.10.14"
  }
 },
 "nbformat": 4,
 "nbformat_minor": 5
}
