{
 "cells": [
  {
   "cell_type": "code",
   "execution_count": 68,
   "id": "38943229-0afb-4254-913c-038cf604351e",
   "metadata": {},
   "outputs": [],
   "source": [
    "import pandas as pd"
   ]
  },
  {
   "cell_type": "code",
   "execution_count": 69,
   "id": "de1c40c7-c360-4973-b154-6432fcd1a6e7",
   "metadata": {},
   "outputs": [],
   "source": [
    "#load budget data\n",
    "\n",
    "file_path='Resources/budget_data.csv'\n",
    "data=pd.read_csv(file_path)"
   ]
  },
  {
   "cell_type": "code",
   "execution_count": 70,
   "id": "a2a0353f-3fe6-4fe8-a6f1-d3f59360535a",
   "metadata": {},
   "outputs": [],
   "source": [
    "#Calculate total number of months\n",
    "\n",
    "total_months=data['Date'].count()"
   ]
  },
  {
   "cell_type": "code",
   "execution_count": 71,
   "id": "41230615-c64b-4681-9690-6f51edcc63a6",
   "metadata": {},
   "outputs": [],
   "source": [
    "#Calculate net total amounts of profit and losses\n",
    "\n",
    "net_totalpl = data['Profit/Losses'].sum()"
   ]
  },
  {
   "cell_type": "code",
   "execution_count": 72,
   "id": "ecfc6afb-95a7-412e-8ae6-53462367ee6c",
   "metadata": {},
   "outputs": [],
   "source": [
    "#calculate average change\n",
    "data['Change']=data['Profit/Losses'].diff()\n",
    "\n",
    "#calculate average in change\n",
    "AVG_change=data['Change'].mean()"
   ]
  },
  {
   "cell_type": "code",
   "execution_count": 73,
   "id": "5dac5d09-898d-45fd-92cc-64389f73acef",
   "metadata": {},
   "outputs": [],
   "source": [
    "#calculate greatest increase in profit\n",
    "\n",
    "#determine the greatest increase\n",
    "greatest_inc = data.loc[data['Change'].idxmax()]\n",
    "\n",
    "#find the date\n",
    "greatest_inc_date = greatest_inc['Date']\n",
    "\n",
    "#find the greatest increase\n",
    "greatest_inc_amount = greatest_inc['Change']"
   ]
  },
  {
   "cell_type": "code",
   "execution_count": 74,
   "id": "d806fab7-4027-498c-bc24-ed386181ed2f",
   "metadata": {},
   "outputs": [],
   "source": [
    "#calculate greatest decrease in profit\n",
    "\n",
    "#determine the greatest increase\n",
    "greatest_dec = data.loc[data['Change'].idxmin()]\n",
    "\n",
    "#find the date\n",
    "greatest_dec_date = greatest_dec['Date']\n",
    "\n",
    "#find the greatest decrease\n",
    "greatest_dec_amount = greatest_dec['Change']"
   ]
  },
  {
   "cell_type": "code",
   "execution_count": 66,
   "id": "c9545d97-8a7a-4c4b-9ef0-4e547b725eee",
   "metadata": {},
   "outputs": [
    {
     "name": "stdout",
     "output_type": "stream",
     "text": [
      "Financial Analysis\n",
      " \n",
      "------------------\n",
      " \n",
      "Total Months: 86\n",
      " \n",
      "Total: $22564198\n",
      " \n",
      "AVG_change: $-8311.11\n",
      " \n",
      "Greatest Increase in Profits: Aug-16 ($1862002.0)\n",
      " \n",
      "Greatest Decrease in Profits: Feb-14 ($-1825558.0)\n"
     ]
    }
   ],
   "source": [
    "#Print to the Terminal\n",
    "print(f\"Financial Analysis\")\n",
    "print(f\" \")\n",
    "print (f\"------------------\")\n",
    "print(f\" \")\n",
    "print (f\"Total Months: {total_months}\")\n",
    "print(f\" \")\n",
    "print(f\"Total: ${net_totalpl}\")\n",
    "print(f\" \")\n",
    "print(f\"AVG_change: ${AVG_change:.2f}\")\n",
    "print(f\" \")\n",
    "print(f\"Greatest Increase in Profits: {greatest_inc_date} (${greatest_inc_amount})\")\n",
    "print(f\" \")\n",
    "print(f\"Greatest Decrease in Profits: {greatest_dec_date} (${greatest_dec_amount})\")"
   ]
  },
  {
   "cell_type": "code",
   "execution_count": 75,
   "id": "72ff0246-87ef-4006-9d40-465e465f7479",
   "metadata": {},
   "outputs": [],
   "source": [
    "# Export the results to a text file\n",
    "\n",
    "with open('financial_analysis.txt', 'w') as f:\n",
    "    f.write(\"Financial Analysis\\n\")\n",
    "    f.write(\"----------------------------\\n\")\n",
    "    f.write(f\"Total Months: {total_months}\\n\")\n",
    "    f.write(f\"Net Total Profit/Losses: ${net_totalpl}\\n\")\n",
    "    f.write(f\"Average Change: ${AVG_change:,.2f}\\n\")\n",
    "    f.write(f\"Greatest Increase in Profits: {greatest_inc_date} (${greatest_inc_amount:,.2f})\\n\")\n",
    "    f.write(f\"Greatest Decrease in Profits: {greatest_dec_date} (${greatest_dec_amount:,.2f})\\n\")"
   ]
  }
 ],
 "metadata": {
  "kernelspec": {
   "display_name": "Python 3 (ipykernel)",
   "language": "python",
   "name": "python3"
  },
  "language_info": {
   "codemirror_mode": {
    "name": "ipython",
    "version": 3
   },
   "file_extension": ".py",
   "mimetype": "text/x-python",
   "name": "python",
   "nbconvert_exporter": "python",
   "pygments_lexer": "ipython3",
   "version": "3.10.14"
  }
 },
 "nbformat": 4,
 "nbformat_minor": 5
}
